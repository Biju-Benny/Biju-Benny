{
 "cells": [
  {
   "cell_type": "markdown",
   "metadata": {},
   "source": [
    "# Steps to create a password authentication system\n",
    "1.Create a dictionary of usernames with their passwords.\n",
    "2.Then ask for user input as the username by using the input function in Python.\n",
    "3.Then use the getpass module in Python to ask for user input as the password. Here we are using the getpass module instead of the input function to make sure that the user doesn’t get to see what he/she write in the password field."
   ]
  },
  {
   "cell_type": "code",
   "execution_count": 2,
   "metadata": {},
   "outputs": [],
   "source": [
    "import getpass"
   ]
  },
  {
   "cell_type": "code",
   "execution_count": 4,
   "metadata": {},
   "outputs": [
    {
     "name": "stdout",
     "output_type": "stream",
     "text": [
      "Enter your user name: biju.benny\n",
      "Enter your password: ········\n",
      " Enter your password again: ········\n",
      "Verified\n"
     ]
    }
   ],
   "source": [
    "database = {\"biju.benny\":\"123456\", \"benny.biju\": \"abcdefg\"}\n",
    "username = input('Enter your user name: ')\n",
    "password = getpass.getpass('Enter your password: ')\n",
    "\n",
    "for i in database.keys():\n",
    "    if username == i:\n",
    "        while password != database.get(i):\n",
    "            password = getpass.getpass(' Enter your password again: ')\n",
    "        break\n",
    "print('Verified')\n"
   ]
  }
 ],
 "metadata": {
  "kernelspec": {
   "display_name": "Python 3",
   "language": "python",
   "name": "python3"
  },
  "language_info": {
   "codemirror_mode": {
    "name": "ipython",
    "version": 3
   },
   "file_extension": ".py",
   "mimetype": "text/x-python",
   "name": "python",
   "nbconvert_exporter": "python",
   "pygments_lexer": "ipython3",
   "version": "3.7.6"
  }
 },
 "nbformat": 4,
 "nbformat_minor": 4
}

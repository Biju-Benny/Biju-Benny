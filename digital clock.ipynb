{
 "cells": [
  {
   "cell_type": "code",
   "execution_count": 2,
   "metadata": {},
   "outputs": [],
   "source": [
    "#import libraries to create digital clock\n",
    "from tkinter import Label, Tk\n",
    "import time\n",
    "\n",
    "#Now let’s define the title and size of our application. \n",
    "#Note that in the code below I will set both the height and width of the resizable function as True: (1,1) if you want a fixed window and don’t want to maximize or minimize the output you can set it to False:(0,0):\n",
    "\n",
    "app_window = Tk()\n",
    "app_window.title('Digital_clock')\n",
    "app_window.geometry(\"420x150\") \n",
    "app_window.resizable(1,1)\n",
    "\n",
    "#Now here I will define the font of the time and its colour, its border width and the background colour of the digital clock:\n",
    "text_font= (\"Boulder\", 68, 'bold')\n",
    "background = \"#00060f\"\n",
    "foreground= \"#4287f5\"\n",
    "border_width = 25\n",
    "\n",
    "#combine all the elements to define the label of the clock application:\n",
    "\n",
    "label = Label(app_window, font=text_font, bg=background, fg=foreground, bd= border_width )\n",
    "label.grid(row=0 , column=1)\n",
    "\n",
    "#define the main function of our digital clock. Here I will set the text of the label as the realtime:\n",
    "def digital_clock():\n",
    "    time_live= time.strftime(\"%H:%M:%S\")\n",
    "    label.config(text=time_live)\n",
    "    label.after(200, digital_clock )\n",
    "    \n",
    "digital_clock()\n",
    "app_window.mainloop()"
   ]
  },
  {
   "cell_type": "code",
   "execution_count": null,
   "metadata": {},
   "outputs": [],
   "source": []
  }
 ],
 "metadata": {
  "kernelspec": {
   "display_name": "Python 3",
   "language": "python",
   "name": "python3"
  },
  "language_info": {
   "codemirror_mode": {
    "name": "ipython",
    "version": 3
   },
   "file_extension": ".py",
   "mimetype": "text/x-python",
   "name": "python",
   "nbconvert_exporter": "python",
   "pygments_lexer": "ipython3",
   "version": "3.7.6"
  }
 },
 "nbformat": 4,
 "nbformat_minor": 4
}
